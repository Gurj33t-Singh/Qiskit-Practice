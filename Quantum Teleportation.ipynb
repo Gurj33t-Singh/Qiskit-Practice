{
 "cells": [
  {
   "cell_type": "markdown",
   "id": "a5473a44",
   "metadata": {},
   "source": [
    "# Quantum Teleporation"
   ]
  },
  {
   "cell_type": "code",
   "execution_count": 8,
   "id": "5db93845",
   "metadata": {},
   "outputs": [],
   "source": [
    "import numpy as np\n",
    "import pandas as pd\n",
    "\n",
    "from qiskit import QuantumCircuit, transpile\n",
    "from qiskit_aer import AerSimulator\n",
    "from qiskit.visualization import plot_histogram\n",
    "from qiskit.quantum_info import Statevector, state_fidelity, DensityMatrix, partial_trace"
   ]
  },
  {
   "cell_type": "markdown",
   "id": "9a19ac59",
   "metadata": {},
   "source": [
    "### Classical measurement bits \n",
    " - Created a classical bit measurement circuit.\n",
    " - The quantum state will collapse upon measurement.\n",
    " - Conditional gates applied with if_test on one and only classical register (2 bits)\n",
    " - We will be matching the result counts of psi state and the q2's final state after adjustment"
   ]
  },
  {
   "cell_type": "code",
   "execution_count": 10,
   "id": "b44580a1",
   "metadata": {},
   "outputs": [],
   "source": [
    "sim = AerSimulator()\n",
    "\n",
    "def cl_circuit(prep_state=None, shots=1024):\n",
    "    \n",
    "    if prep_state==None:\n",
    "        prep_state=[1, 0]\n",
    "\n",
    "    qc = QuantumCircuit(3, 2)\n",
    "\n",
    "    # Prepared unknown psi state\n",
    "    qc.initialize(prep_state, 0)\n",
    "    \n",
    "    # Prepared bell pair\n",
    "    qc.h(1)\n",
    "    qc.cx(1, 2)\n",
    "\n",
    "    # q0 entangled with half bell pair\n",
    "    qc.cx(0, 1)\n",
    "\n",
    "    # Adjusted basis of measurement to include phase shift\n",
    "    qc.h(0)\n",
    "\n",
    "    qc.measure([0, 1],  # q0 and q1 \n",
    "               [0, 1])  # c0 and c1\n",
    "\n",
    "    # Apply classical corrections to q2 using if_test tuple (ClassicalRegister, int)\n",
    "    # qc.cregs[0] is the only 2-bit classical register:\n",
    "    # 0 -> 00, 1 -> 01, 2 -> 10, 3 -> 11\n",
    "    with qc.if_test((qc.cregs[0], 1)):  # measured 01  -> apply X\n",
    "        qc.x(2)\n",
    "    with qc.if_test((qc.cregs[0], 2)):  # measured 10  -> apply Z\n",
    "        qc.z(2)\n",
    "    with qc.if_test((qc.cregs[0], 3)):  # measured 11  -> apply Z then X\n",
    "        qc.z(2)\n",
    "        qc.x(2)\n",
    "\n",
    "    # measuring q2 to confirm results, reusing the cbit 1 here for convenience\n",
    "    qc.measure(2, 1)\n",
    "\n",
    "    compiled_qc = transpile(circuits=qc, backend=sim)\n",
    "    result = sim.run(circuits=compiled_qc, shots=shots).result()\n",
    "    counts = result.get_counts()\n",
    "    return qc, counts\n"
   ]
  },
  {
   "cell_type": "markdown",
   "id": "0f297df5",
   "metadata": {},
   "source": [
    "Calling the classical bit circuit and print its final counts after adjustment"
   ]
  },
  {
   "cell_type": "code",
   "execution_count": 11,
   "id": "c6202891",
   "metadata": {},
   "outputs": [
    {
     "name": "stdout",
     "output_type": "stream",
     "text": [
      "{'00': 264, '10': 237, '11': 265, '01': 258}\n"
     ]
    },
    {
     "data": {
      "image/png": "[encoded data removed]",
      "text/plain": [
       "<Figure size 1290.83x367.889 with 1 Axes>"
      ]
     },
     "execution_count": 11,
     "metadata": {},
     "output_type": "execute_result"
    }
   ],
   "source": [
    "psi = [np.sqrt(1/3), np.sqrt(2/3)]\n",
    "qc_cl, counts = cl_circuit(prep_state=psi)\n",
    "print(counts)\n",
    "qc_cl.draw('mpl')"
   ]
  },
  {
   "cell_type": "markdown",
   "id": "30baa9cf",
   "metadata": {},
   "source": [
    "### State Vector measurement\n",
    " - No classical measurement on classical bits, hence the state will not collapse. And the adjustments are done using **quantum gates** *cx* and *cz* gates\n",
    " - Statevector converted to Density Matrix, because it handles both pure and mixed states. And it helps with Partial trace. \n",
    " - Partial trace of q0 and q1 and only q2's state is taken into consideration\n",
    " - Fidelity measures the _similarity (overlap)_ between the initial state ∣ψ⟩ and the final state of q₂.\n",
    "\t - Imagine two arrows on the Bloch sphere, fidelity is how much they point in the same direction."
   ]
  },
  {
   "cell_type": "code",
   "execution_count": null,
   "id": "ee37f186",
   "metadata": {},
   "outputs": [],
   "source": [
    "def sv_circuit(prep_state=None):\n",
    "    if prep_state==None:\n",
    "        prep_state=[1, 0]\n",
    "\n",
    "    qc = QuantumCircuit(3)\n",
    "\n",
    "    # Prepared unknown psi state\n",
    "    qc.initialize(prep_state, 0)\n",
    "    \n",
    "    # Prepared bell pair\n",
    "    qc.h(1)\n",
    "    qc.cx(1, 2)\n",
    "\n",
    "    # q0 entangled with half bell pair\n",
    "    qc.cx(0, 1)\n",
    "\n",
    "    # Adjusted basis of measurement to include phase shift\n",
    "    qc.h(0)\n",
    "\n",
    "    # Controlled X quantum correction\n",
    "    qc.cx(1, 2)\n",
    "\n",
    "    # Controlled Z quantum correction\n",
    "    qc.cz(0, 2)\n",
    "\n",
    "    # Run the circuit to get statevector\n",
    "    sv = Statevector.from_instruction(qc)\n",
    "\n",
    "    # Initial state q0 |psi>:\n",
    "    psi = Statevector(prep_state)\n",
    "\n",
    "    # Get density matrix of q2:\n",
    "    dm = DensityMatrix(sv) # ρ=∣ψ⟩⟨ψ∣, ⟨ψ∣ is conjugate tranpose of ∣ψ⟩\n",
    "    dm_q2 = partial_trace(dm, [0, 1])  # trace out q0 and q1, ρ_q2​=Tr_(q0,q1​).(ρfull​)\n",
    "\n",
    "    # fidelity between pure psi and rho:\n",
    "    fid = state_fidelity(psi, dm_q2) # F(∣ψ⟩,∣ϕ⟩)=∣⟨ψ∣ϕ⟩∣^2\n",
    "    return fid, qc, sv"
   ]
  },
  {
   "cell_type": "markdown",
   "id": "c070ceea",
   "metadata": {},
   "source": [
    "- When we get a statevector in form q0,q1,q2 (3 bit register), these\n",
    "   are the probability amplitude of the different 3 bit states.\n",
    "- Absolute Squares of these values and their sum should equate to 1   \n",
    "   (probability of system)"
   ]
  },
  {
   "cell_type": "code",
   "execution_count": null,
   "id": "2b455ec4",
   "metadata": {},
   "outputs": [
    {
     "name": "stdout",
     "output_type": "stream",
     "text": [
      "Fidelity between initial q0 and teleported q2: 0.9999999999999997\n",
      "Statevector([0.28867513+0.j, 0.28867513+0.j, 0.28867513+0.j,\n",
      "             0.28867513+0.j, 0.40824829+0.j, 0.40824829+0.j,\n",
      "             0.40824829+0.j, 0.40824829+0.j],\n",
      "            dims=(2, 2, 2))\n"
     ]
    },
    {
     "data": {
      "image/png": "[encoded data removed]",
      "text/plain": [
       "<Figure size 621.941x284.278 with 1 Axes>"
      ]
     },
     "execution_count": 25,
     "metadata": {},
     "output_type": "execute_result"
    }
   ],
   "source": [
    "psi = [np.sqrt(1/3), np.sqrt(2/3)]\n",
    "fid, qc_sv, sv = sv_circuit(prep_state=psi)\n",
    "print(\"Fidelity between initial q0 and teleported q2:\", fid)\n",
    "print(sv) # |q0 q1 q2>\n",
    "qc_sv.draw('mpl')"
   ]
  }
 ],
 "metadata": {
  "kernelspec": {
   "display_name": "qiskit",
   "language": "python",
   "name": "python3"
  },
  "language_info": {
   "codemirror_mode": {
    "name": "ipython",
    "version": 3
   },
   "file_extension": ".py",
   "mimetype": "text/x-python",
   "name": "python",
   "nbconvert_exporter": "python",
   "pygments_lexer": "ipython3",
   "version": "3.13.5"
  }
 },
 "nbformat": 4,
 "nbformat_minor": 5
}
