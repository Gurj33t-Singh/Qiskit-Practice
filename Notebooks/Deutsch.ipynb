{
 "cells": [
  {
   "cell_type": "markdown",
   "id": "01fb2a81",
   "metadata": {},
   "source": [
    "# Deutsch Algorithm\n",
    "\n",
    "$\\braket{x | U_f | x}$  \n",
    "$\\braket{y \\oplus f(x) | U_f | y}$  \n",
    "\n",
    "If  \n",
    "\n",
    "$$\n",
    "\\ket{y} = 0\n",
    "$$\n",
    "\n",
    "then  \n",
    "\n",
    "$$\n",
    "U_f \\ket{x}\\ket{0} = \\ket{x} \\ket{0 \\oplus f(x)} \\\\\n",
    "U_f \\ket{x}\\ket{0} = \\ket{x} \\ket{f(x)}\n",
    "$$\n",
    "\n",
    "Because  \n",
    "\n",
    "$$\n",
    "0 \\oplus 0 = 0 \\\\\n",
    "0 \\oplus 1 = 1\n",
    "$$\n",
    "\n",
    "and $\\oplus$ denotes XOR.  \n",
    "\n",
    "Therefore,  \n",
    "\n",
    "$$\n",
    "y \\oplus f(x) =\n",
    "\\begin{cases}\n",
    "f(x), & y = 0 \\\\\n",
    "\\overline{f(x)}, & y = 1\n",
    "\\end{cases}\n",
    "$$\n",
    "\n",
    "Example: \n",
    "\n",
    "$$\n",
    "U_f \\ket{x} \\ket{-} = U_f \\left[ \\tfrac{1}{\\sqrt{2}} (\\ket{x} \\ket{0} - \\ket{x} \\ket{1}) \\right] \\\\\n",
    "U_f \\ket{x} \\ket{-} = \\tfrac{1}{\\sqrt{2}} \\left( U_f \\ket{x} \\ket{0} - U_f \\ket{x} \\ket{1} \\right) \\\\\n",
    "U_f \\ket{x} \\ket{-} = \\tfrac{1}{\\sqrt{2}} \\left( \\ket{x} \\ket{f(x)} - \\ket{x} \\ket{\\overline{f(x)}} \\right)\n",
    "$$\n",
    "\n",
    "Thus,\n",
    "\n",
    "$$\n",
    "U_f \\ket{x} \\ket{-} =\n",
    "\\begin{cases}\n",
    "\\ket{x} \\ket{-}, & f(x) = 0 \\\\\n",
    "-\\,\\ket{x} \\ket{-}, & f(x) = 1\n",
    "\\end{cases}\n",
    "$$\n",
    "\n",
    "**Phase Oracle:**\n",
    "$$\n",
    "U_f \\ket{x} \\ket{-} = (-1)^{f(x)} \\ket{x} \\ket{-}\n",
    "$$"
   ]
  },
  {
   "cell_type": "code",
   "execution_count": 2,
   "id": "b55827a4",
   "metadata": {},
   "outputs": [],
   "source": [
    "from qiskit import QuantumCircuit, transpile\n",
    "from qiskit_aer import Aer, AerSimulator\n",
    "from qiskit.visualization import plot_histogram\n",
    "from qiskit_ibm_runtime.fake_provider import FakeManilaV2"
   ]
  },
  {
   "cell_type": "markdown",
   "id": "794e4828",
   "metadata": {},
   "source": [
    "## Constant Oracles $f(x)$\n",
    "### Constant 0\n",
    "\n",
    "$\n",
    "f(x) =\n",
    "\\begin{cases}\n",
    "0, & x = 0 \\\\\n",
    "0, & x = 1\n",
    "\\end{cases}\n",
    "$\n",
    "\n",
    "### Constant 1\n",
    "\n",
    "$\n",
    "f(x) =\n",
    "\\begin{cases}\n",
    "1, & x = 0 \\\\\n",
    "1, & x = 1\n",
    "\\end{cases}\n",
    "$"
   ]
  },
  {
   "cell_type": "code",
   "execution_count": 3,
   "id": "1bef505a",
   "metadata": {},
   "outputs": [],
   "source": [
    "def const_0():\n",
    "    qc = QuantumCircuit(2)\n",
    "    return qc\n",
    "\n",
    "def const_1():\n",
    "    qc = QuantumCircuit(2)\n",
    "    # flipped q1 to 1 which stays the same\n",
    "    qc.x(1)\n",
    "    return qc"
   ]
  },
  {
   "cell_type": "markdown",
   "id": "49044aad",
   "metadata": {},
   "source": [
    "## Balanced Oracles $f(x)$\n",
    "### Identity \n",
    "\n",
    "$\n",
    "f(x) =\n",
    "\\begin{cases}\n",
    "0, & x = 0 \\\\\n",
    "1, & x = 1\n",
    "\\end{cases}\n",
    "$\n",
    "\n",
    "### Not\n",
    "\n",
    "$\n",
    "f(x) =\n",
    "\\begin{cases}\n",
    "1, & x = 0 \\\\\n",
    "0, & x = 1\n",
    "\\end{cases}\n",
    "$"
   ]
  },
  {
   "cell_type": "code",
   "execution_count": 4,
   "id": "e50882ad",
   "metadata": {},
   "outputs": [],
   "source": [
    "def identity():\n",
    "    qc = QuantumCircuit(2)\n",
    "    qc.cx(0, 1)\n",
    "    return qc\n",
    "\n",
    "def balanced_not():\n",
    "    qc = QuantumCircuit(2)\n",
    "    # entangle and then flip q1\n",
    "    qc.cx(0, 1)\n",
    "    qc.x(1)\n",
    "    return qc"
   ]
  },
  {
   "cell_type": "code",
   "execution_count": 20,
   "id": "f728dee4",
   "metadata": {},
   "outputs": [],
   "source": [
    "# Main Deutsch algorithm\n",
    "def deutsch_algorithm(oracle):\n",
    "    # Create circuit with 2 qubits and 1 classical bit\n",
    "    qc = QuantumCircuit(2, 2)\n",
    "    \n",
    "    # Step 1: Initialize qubit 1 to |1⟩\n",
    "    qc.x(1)\n",
    "    \n",
    "    # Step 2: Apply Hadamard gates to both qubits\n",
    "    qc.h([0, 1])\n",
    "    \n",
    "    qc.barrier()\n",
    "    \n",
    "    # Step 3: Apply the oracle\n",
    "    qc = qc.compose(oracle)\n",
    "    \n",
    "    qc.barrier()\n",
    "    \n",
    "    # Step 4: Apply Hadamard to qubit 0\n",
    "    qc.h(0)\n",
    "    \n",
    "    # Step 5: Measure qubit 0\n",
    "    qc.measure(0, 0)\n",
    "    \n",
    "    return qc\n",
    "\n"
   ]
  },
  {
   "cell_type": "code",
   "execution_count": 21,
   "id": "a5a7fa64",
   "metadata": {},
   "outputs": [
    {
     "name": "stdout",
     "output_type": "stream",
     "text": [
      "constant_0: {'00': 1000}\n",
      "constant_1: {'00': 1000}\n",
      "balanced_identity: {'01': 1000}\n",
      "balanced_not: {'01': 1000}\n"
     ]
    }
   ],
   "source": [
    "# Test all oracles\n",
    "oracles = {\n",
    "    'constant_0': const_0(),\n",
    "    'constant_1': const_1(),\n",
    "    'balanced_identity': identity(),\n",
    "    'balanced_not': balanced_not()\n",
    "}\n",
    "\n",
    "simulator = AerSimulator()\n",
    "for name, oracle in oracles.items():\n",
    "    # Create and run circuit\n",
    "    circuit = deutsch_algorithm(oracle)\n",
    "    # Transpile and simulate\n",
    "    transpiled = transpile(circuit, simulator)\n",
    "    result = simulator.run(transpiled, shots=1000).result()\n",
    "    counts = result.get_counts()\n",
    "    \n",
    "    print(f\"{name}: {counts}\")\n",
    "    \n",
    "    # Draw one example circuit\n",
    "    if name == 'balanced_identity':\n",
    "        circuit.draw('mpl')"
   ]
  },
  {
   "cell_type": "code",
   "execution_count": 19,
   "id": "0de5c4f0",
   "metadata": {},
   "outputs": [
    {
     "data": {
      "image/png": "[encoded data removed]",
      "text/plain": [
       "<Figure size 998.442x367.889 with 1 Axes>"
      ]
     },
     "execution_count": 19,
     "metadata": {},
     "output_type": "execute_result"
    }
   ],
   "source": [
    "circuit = deutsch_algorithm(oracles[\"balanced_not\"])\n",
    "circuit.draw('mpl')\n"
   ]
  }
 ],
 "metadata": {
  "kernelspec": {
   "display_name": "qiskit",
   "language": "python",
   "name": "python3"
  },
  "language_info": {
   "codemirror_mode": {
    "name": "ipython",
    "version": 3
   },
   "file_extension": ".py",
   "mimetype": "text/x-python",
   "name": "python",
   "nbconvert_exporter": "python",
   "pygments_lexer": "ipython3",
   "version": "3.13.5"
  }
 },
 "nbformat": 4,
 "nbformat_minor": 5
}
